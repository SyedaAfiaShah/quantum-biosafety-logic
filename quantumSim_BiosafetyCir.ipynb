{
  "cells": [
    {
      "cell_type": "markdown",
      "metadata": {
        "id": "gLtIZk8FHIwo"
      },
      "source": [
        "# Quantum Simulation of a Biosafety Logic Circuit for a Pollutant-Eating Biospray 🧬\n",
        "\n",
        "This notebook presents a quantum logic simulation that models the biosafety decision system from the [Pollutant-Eating Biospray Project](https://awake-pot-132.notion.site/SynBio-Project-Engineering-a-PAH-Detecting-and-Degrading-Biospray-Using-Pseudomonas-putida-275d15e7a8e480c58c18f95504988d2e?source=copy_link&authuser=0).\n",
        "\n",
        "In the biospray design, engineered bacteria are programmed to detect and degrade toxic air pollutants while ensuring environmental safety through a built-in kill-switch.\n",
        "This logic can be expressed as:\n",
        "\n",
        "K = M OR T OR G\n",
        "\n",
        "where\n",
        "\n",
        "• M → Mutation detected\n",
        "\n",
        "• T → Timer expiry (pollutant absent too long)\n",
        "\n",
        "• G → Geosensing alert (outside the designated area)\n",
        "\n",
        "In this notebook, that same rule is implemented using quantum logic gates in Qiskit, showing how biological decision-making can be represented through reversible quantum operations.\n",
        "\n",
        "The simulation includes:\n",
        "\n",
        "✅ Classical vs Quantum truth table comparison\n",
        "\n",
        "✅ Quantum superposition and noise simulations\n",
        "\n",
        "✅ Visualization of probabilistic kill outcomes\n",
        "\n",
        "This is a conceptual demonstration, not a biological experiment, it bridges synthetic biology and quantum computing through logical modeling."
      ]
    },
    {
      "cell_type": "markdown",
      "source": [
        "## 1. Background and Motivation\n",
        "\n",
        "Biological systems such as the engineered biospray rely on *multi-input logic* — combining environmental, genetic, and temporal signals to decide whether a cell should replicate, degrade pollutants, or self-terminate.  \n",
        "This is analogous to quantum logic, where multiple qubits influence a single probabilistic outcome.\n",
        "\n",
        "Here, we simulate the biospray’s **kill-switch logic** using a quantum circuit framework.  \n",
        "Inputs represent biological signals:\n",
        "- **Mutation (M):** DNA damage or genetic instability  \n",
        "- **Geosensing (G):** Bacteria outside designated geography  \n",
        "- **Timer (T):** The absence of pollutants for a defined time (~1 hr)\n",
        "\n",
        "The system’s output, **Kill (K)**, is determined by:\n",
        "\\[\n",
        "K = M + T + G\n",
        "\\]\n",
        "This equation mimics the biosafety rule used in the *pSafe* plasmid of the biospray system.\n",
        "\n",
        "Quantum circuits provide a way to explore this rule not as a binary ON/OFF response, but as a **probabilistic state** — reflecting biological uncertainty, noise, and interaction among multiple inputs.\n"
      ],
      "metadata": {
        "id": "F7jP1VH-Qe_G"
      }
    },
    {
      "cell_type": "markdown",
      "source": [
        "⚙️ 1. Imports and Setup\n",
        "\n",
        "We begin by importing the required libraries and setting up the environment.\n",
        "The simulation is built using Qiskit with support from AerSimulator for ideal and noisy runs.\n",
        "Helper libraries such as matplotlib, pandas, and itertools handle plotting and truth table generation."
      ],
      "metadata": {
        "id": "2kwgufFhlFLR"
      }
    },
    {
      "cell_type": "code",
      "execution_count": null,
      "metadata": {
        "id": "_F6Zva1LHTeu",
        "collapsed": true
      },
      "outputs": [],
      "source": [
        "pip install qiskit qiskit-aer matplotlib pylatexenc"
      ]
    },
    {
      "cell_type": "code",
      "source": [
        "from qiskit import QuantumCircuit, QuantumRegister, ClassicalRegister, transpile\n",
        "from qiskit.visualization import plot_histogram\n",
        "from qiskit_aer import AerSimulator\n",
        "from qiskit_aer.noise import NoiseModel, depolarizing_error, ReadoutError\n",
        "from itertools import product\n",
        "import matplotlib.pyplot as plt\n",
        "import pandas as pd\n",
        "import numpy as np\n",
        "import os\n",
        "\n",
        "# --------------------------- Setup ---------------------------\n",
        "plt.rcParams[\"figure.dpi\"] = 120"
      ],
      "metadata": {
        "id": "C4hCsiUCW7T2"
      },
      "execution_count": 12,
      "outputs": []
    },
    {
      "cell_type": "markdown",
      "source": [
        "🧩 2. Define the Biosafety Logic\n",
        "\n",
        "In the biospray design, the “kill-switch” ensures that bacterial survival is tightly regulated.\n",
        "The classical rule is defined as:\n",
        "\n",
        "K=T+M+G\n",
        "\n",
        "where:\n",
        "\n",
        "M = Mutation detected\n",
        "\n",
        "T = Timer expired (no pollutants detected for a while)\n",
        "\n",
        "G = Geosensing out of safe region\n",
        "\n",
        "K = Kill signal\n",
        "\n",
        "The bacteria self-terminate whenever any of these inputs is true.\n",
        "We define this rule both in classical logic and as a quantum circuit built with reversible gates."
      ],
      "metadata": {
        "id": "JSZfPAKRl60_"
      }
    },
    {
      "cell_type": "code",
      "source": [
        "# ---------- Classical kill rule ----------\n",
        "def kill_rule_classical(mutation, timer, geosense):\n",
        "    \"\"\"\n",
        "    Classical kill rule for biospray safety logic.\n",
        "    K = T OR M OR G\n",
        "    \"\"\"\n",
        "    return int(mutation or timer or geosense)"
      ],
      "metadata": {
        "id": "A5wKiLlFl5Jz"
      },
      "execution_count": 13,
      "outputs": []
    },
    {
      "cell_type": "markdown",
      "source": [
        "🧮 Step 3 — Building the Quantum Logic Circuit\n",
        "\n",
        "Text cell:\n",
        "We now construct a reversible quantum circuit that mirrors the same biological logic.\n",
        "Each qubit represents one input condition, and Toffoli (CCX) gates are used to implement the multi-input OR operation.\n",
        "Quantum reversibility ensures that the system conserves information, similar to how biological regulation can reverse or override signals under controlled feedback."
      ],
      "metadata": {
        "id": "_zMWPxI8ugyq"
      }
    },
    {
      "cell_type": "code",
      "source": [
        "# ---------- Build reversible quantum circuit ----------\n",
        "def build_reversible_kill_circuit():\n",
        "    \"\"\"\n",
        "    Build a reversible quantum circuit implementing:\n",
        "        K = T OR M OR G\n",
        "    using basic quantum logic gates.\n",
        "    Qubit mapping:\n",
        "        q0 = M (Mutation)\n",
        "        q1 = T (Timer)\n",
        "        q2 = G (Geosensing)\n",
        "        q3 = Ancilla\n",
        "        q4 = K (Kill output)\n",
        "    \"\"\"\n",
        "    qr = QuantumRegister(5, \"q\")\n",
        "    cr = ClassicalRegister(1, \"c\")  # measure kill output\n",
        "    qc = QuantumCircuit(qr, cr)\n",
        "\n",
        "    # Step 1: Initialize kill bit to 0\n",
        "    qc.reset(qr[4])\n",
        "\n",
        "    # Step 2: XOR inputs into output (sets kill=1 when odd number of inputs 1)\n",
        "    qc.cx(qr[0], qr[4])\n",
        "    qc.cx(qr[1], qr[4])\n",
        "    qc.cx(qr[2], qr[4])\n",
        "\n",
        "    # Step 3: Toffoli gates correct parity to form proper OR (1 if any input = 1)\n",
        "    qc.ccx(qr[0], qr[1], qr[4])\n",
        "    qc.ccx(qr[0], qr[2], qr[4])\n",
        "    qc.ccx(qr[1], qr[2], qr[4])\n",
        "\n",
        "    return qc, qr, cr"
      ],
      "metadata": {
        "id": "KukTRTJ5ulNB"
      },
      "execution_count": 14,
      "outputs": []
    },
    {
      "cell_type": "markdown",
      "source": [
        "🔢 3. Classical vs Quantum Truth Table\n",
        "\n",
        "Here we test the circuit by iterating through all possible input combinations of M, T, and G.\n",
        "For each state, we record:\n",
        "\n",
        "The classical output from the Boolean rule\n",
        "\n",
        "The quantum-measured probability of a kill signal\n",
        "\n",
        "The results demonstrate that the quantum model reproduces the expected logic while allowing for probabilistic representation."
      ],
      "metadata": {
        "id": "tPi80Z0RmZQf"
      }
    },
    {
      "cell_type": "code",
      "source": [
        "# ---------- Quantum truth table ----------\n",
        "def evaluate_truth_table_quantum():\n",
        "    backend = AerSimulator()\n",
        "    qc_base, qr, cr = build_reversible_kill_circuit()\n",
        "    rows = []\n",
        "\n",
        "    for mutation, timer, geosense in product([0, 1], repeat=3):\n",
        "        qc = qc_base.copy()\n",
        "        prep = QuantumCircuit(qr, cr)\n",
        "        if mutation:\n",
        "            prep.x(qr[0])\n",
        "        if timer:\n",
        "            prep.x(qr[1])\n",
        "        if geosense:\n",
        "            prep.x(qr[2])\n",
        "\n",
        "        full = prep.compose(qc)\n",
        "        full.measure(qr[4], cr[0])\n",
        "\n",
        "        compiled = transpile(full, backend)\n",
        "        res = backend.run(compiled, shots=1024).result()\n",
        "        counts = res.get_counts()\n",
        "\n",
        "        total_shots = sum(counts.values())\n",
        "        prob_kill = sum(\n",
        "            cnt for bitstring, cnt in counts.items() if bitstring[0] == \"1\"\n",
        "        ) / total_shots\n",
        "\n",
        "        rows.append(\n",
        "            {\n",
        "                \"Mutation\": mutation,\n",
        "                \"Timer\": timer,\n",
        "                \"Geosensing\": geosense,\n",
        "                \"Quantum_Prob_Kill\": prob_kill,\n",
        "                \"Classical_Kill\": kill_rule_classical(mutation, timer, geosense),\n",
        "            }\n",
        "        )\n",
        "\n",
        "    df = pd.DataFrame(rows)\n",
        "    return df"
      ],
      "metadata": {
        "id": "mj8cr6_ImbQT"
      },
      "execution_count": 15,
      "outputs": []
    },
    {
      "cell_type": "markdown",
      "source": [
        "🔮 4. Quantum Superposition Simulation\n",
        "\n",
        "To explore how the biosafety logic behaves in quantum form, we place all three inputs in superposition using Hadamard gates.\n",
        "This allows the circuit to evaluate all possible states simultaneously.\n",
        "\n",
        "We then visualize the measured outcomes as a histogram showing the probability distribution of output states."
      ],
      "metadata": {
        "id": "N6qbuQqxmor2"
      }
    },
    {
      "cell_type": "code",
      "source": [
        "# ---------- Quantum Superposition Simulation ----------\n",
        "def superposition_counts(noisy=False, noise_model=None):\n",
        "    qc_base, qr, _ = build_reversible_kill_circuit()\n",
        "    cr = ClassicalRegister(5, \"c\")  # ✅ FIX: create 5 classical bits\n",
        "    prep = QuantumCircuit(qr, cr)\n",
        "    prep.h([qr[0], qr[1], qr[2]])  # put all inputs in superposition\n",
        "    full = prep.compose(qc_base)\n",
        "    full.measure([qr[4], qr[3], qr[2], qr[1], qr[0]], range(5))  # ✅ now valid\n",
        "\n",
        "    backend = AerSimulator()\n",
        "    compiled = transpile(full, backend)\n",
        "    job = backend.run(compiled, shots=4096, noise_model=noise_model if noisy else None)\n",
        "    return job.result().get_counts()"
      ],
      "metadata": {
        "id": "PZ8rnS1qmpfL"
      },
      "execution_count": 16,
      "outputs": []
    },
    {
      "cell_type": "markdown",
      "source": [
        "⚡ 5. Noisy Quantum Simulation\n",
        "\n",
        "To mimic real-world imperfections, we introduce a simple noise model that includes:\n",
        "\n",
        "*   Depolarizing errors (affecting 1-, 2-, and 3-qubit gates)\n",
        "*   Readout errors during measurement\n",
        "\n",
        "This reflects biological uncertainty just as bacteria experience imperfect sensing or fluctuating environments.\n",
        "We then re-run the simulation with noise and compare the distributions."
      ],
      "metadata": {
        "id": "xFl52KmymvIN"
      }
    },
    {
      "cell_type": "code",
      "source": [
        "# ---------- Noise Model ----------\n",
        "def build_simple_noise_model(p1=0.002, p2=0.02, readout_err=0.03):\n",
        "    noise_model = NoiseModel()\n",
        "    noise_model.add_all_qubit_quantum_error(\n",
        "        depolarizing_error(p1, 1), [\"u1\", \"u2\", \"u3\", \"x\", \"h\"]\n",
        "    )\n",
        "    noise_model.add_all_qubit_quantum_error(depolarizing_error(p2, 2), [\"cx\"])\n",
        "    noise_model.add_all_qubit_quantum_error(depolarizing_error(p2 * 1.5, 3), [\"ccx\"])\n",
        "    readout = ReadoutError(\n",
        "        [[1 - readout_err, readout_err], [readout_err, 1 - readout_err]]\n",
        "    )\n",
        "    noise_model.add_all_qubit_readout_error(readout)\n",
        "    return noise_model"
      ],
      "metadata": {
        "id": "x0qMn0vlmyip"
      },
      "execution_count": 17,
      "outputs": []
    },
    {
      "cell_type": "code",
      "source": [
        "# ---------- Helper: Plotting Function ----------\n",
        "def plot_counts(counts_dict, title, save=False):\n",
        "    if not counts_dict:\n",
        "        print(\"No data to plot for\", title)\n",
        "        return\n",
        "    labels = list(counts_dict.keys())\n",
        "    values = list(counts_dict.values())\n",
        "\n",
        "    plt.figure(figsize=(8, 4))\n",
        "    plt.bar(range(len(labels)), values, tick_label=labels)\n",
        "    plt.xticks(rotation=45, ha=\"right\")\n",
        "    plt.title(title)\n",
        "    plt.xlabel(\"Output state (bitstring)\")\n",
        "    plt.ylabel(\"Counts\")\n",
        "    plt.tight_layout()\n",
        "    plt.show()\n",
        "\n",
        "    if save:\n",
        "        os.makedirs(\"plots\", exist_ok=True)\n",
        "        plt.savefig(f\"plots/{title.replace(' ', '_')}.png\", dpi=300, bbox_inches=\"tight\")\n",
        "        print(f\"Saved: plots/{title.replace(' ', '_')}.png\")\n",
        "\n",
        "\n",
        "# --------------------------- MAIN ---------------------------\n",
        "if __name__ == \"__main__\":\n",
        "    print(\"1️⃣ Classical vs Quantum truth table (ideal simulator):\")\n",
        "    df = evaluate_truth_table_quantum()\n",
        "    print(df.to_string(index=False))\n",
        "\n",
        "    print(\"\\n2️⃣ Quantum superposition counts (ideal):\")\n",
        "    counts = superposition_counts(noisy=False)\n",
        "    print(\"Sample:\", list(counts.items())[:5])\n",
        "    plot_counts(counts, \"Quantum Superposition (Ideal)\")\n",
        "\n",
        "    print(\"\\n3️⃣ Quantum superposition counts (noisy):\")\n",
        "    noise = build_simple_noise_model()\n",
        "    noisy_counts = superposition_counts(noisy=True, noise_model=noise)\n",
        "    print(\"Sample:\", list(noisy_counts.items())[:5])\n",
        "    plot_counts(noisy_counts, \"Quantum Superposition (Noisy)\")\n",
        "\n",
        "    print(\"\\n✅ All simulations completed successfully.\")\n"
      ],
      "metadata": {
        "colab": {
          "base_uri": "https://localhost:8080/",
          "height": 1000
        },
        "id": "rH_FW0OHlg4D",
        "outputId": "4bada140-bc57-408c-e8ed-be7b8f5ad542"
      },
      "execution_count": 18,
      "outputs": [
        {
          "output_type": "stream",
          "name": "stdout",
          "text": [
            "1️⃣ Classical vs Quantum truth table (ideal simulator):\n",
            " Mutation  Timer  Geosensing  Quantum_Prob_Kill  Classical_Kill\n",
            "        0      0           0                0.0               0\n",
            "        0      0           1                1.0               1\n",
            "        0      1           0                1.0               1\n",
            "        0      1           1                1.0               1\n",
            "        1      0           0                1.0               1\n",
            "        1      0           1                1.0               1\n",
            "        1      1           0                1.0               1\n",
            "        1      1           1                0.0               1\n",
            "\n",
            "2️⃣ Quantum superposition counts (ideal):\n",
            "Sample: [('01101', 515), ('01001', 528), ('10101', 542), ('11100', 496), ('00101', 467)]\n"
          ]
        },
        {
          "output_type": "display_data",
          "data": {
            "text/plain": [
              "<Figure size 960x480 with 1 Axes>"
            ],
            "image/png": "[encoded data removed]"
          },
          "metadata": {}
        },
        {
          "output_type": "stream",
          "name": "stdout",
          "text": [
            "\n",
            "3️⃣ Quantum superposition counts (noisy):\n",
            "Sample: [('00011', 2), ('10110', 3), ('00110', 2), ('00001', 73), ('11100', 409)]\n"
          ]
        },
        {
          "output_type": "display_data",
          "data": {
            "text/plain": [
              "<Figure size 960x480 with 1 Axes>"
            ],
            "image/png": "[encoded data removed]"
          },
          "metadata": {}
        },
        {
          "output_type": "stream",
          "name": "stdout",
          "text": [
            "\n",
            "✅ All simulations completed successfully.\n"
          ]
        }
      ]
    },
    {
      "cell_type": "markdown",
      "source": [
        "🧠 Observations\n",
        "\n",
        "- Both the ideal and noisy simulations show that the quantum system correctly reproduces the biosafety rule (K = M OR T OR G).\n",
        "\n",
        "- In noisy conditions, the probability spread becomes more irregular, analogous to biological “error” or uncertainty in sensing and control.\n",
        "\n",
        "- The model remains conceptual but provides a compact example of how biosafety logic could be visualized through quantum computation principles."
      ],
      "metadata": {
        "id": "nbf-6qTcv4iA"
      }
    },
    {
      "cell_type": "markdown",
      "source": [
        "# Summary\n",
        "\n",
        "Text cell:\n",
        "This notebook demonstrates how synthetic biology logic can be expressed using quantum circuits.\n",
        "Although simple, it represents an important educational crossover between biological computation and quantum information science.\n",
        "\n",
        "The circuit uses:\n",
        "\n",
        "- X (NOT) and CX (CNOT) gates for conditional toggling\n",
        "\n",
        "- CCX (Toffoli) gates for multi-input control\n",
        "\n",
        "- Hadamard (H) gates to create superposition\n",
        "\n",
        "- NoiseModel to simulate real-world decoherence"
      ],
      "metadata": {
        "id": "G_sSoZaqnFMm"
      }
    },
    {
      "cell_type": "markdown",
      "source": [
        "🧬 Project Link\n",
        "\n",
        "To learn more about the underlying biospray concept that inspired this simulation:\n",
        "👉 [Pollutant-Eating Biospray Project](https://awake-pot-132.notion.site/SynBio-Project-Engineering-a-PAH-Detecting-and-Degrading-Biospray-Using-Pseudomonas-putida-275d15e7a8e480c58c18f95504988d2e?source=copy_link&authuser=0)"
      ],
      "metadata": {
        "id": "gcXSjo1RxJL_"
      }
    }
  ],
  "metadata": {
    "colab": {
      "provenance": []
    },
    "kernelspec": {
      "display_name": "Python 3",
      "name": "python3"
    },
    "language_info": {
      "name": "python"
    }
  },
  "nbformat": 4,
  "nbformat_minor": 0
}